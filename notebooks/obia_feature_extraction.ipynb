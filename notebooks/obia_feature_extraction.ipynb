{
 "cells": [
  {
   "cell_type": "markdown",
   "id": "1c67e013",
   "metadata": {},
   "source": [
    "# OBIA Feature Extraction with Sentinel-2 Imagery"
   ]
  },
  {
   "cell_type": "markdown",
   "id": "8d8b6968",
   "metadata": {},
   "source": [
    "\n",
    "This notebook performs object-based feature extraction from Sentinel-2 imagery using the `nickyspatial` library.\n",
    "\n",
    "Steps included:\n",
    "1. Load Sentinel-2 bands (Red and NIR)\n",
    "2. Compute NDVI\n",
    "3. Segment the image using Quickshift\n",
    "4. Compute zonal statistics (mean NDVI)\n",
    "5. Extract geometry features (area, perimeter, compactness)\n",
    "6. Compute GLCM texture features (contrast)\n",
    "7. Save the results as GeoJSON and visualize\n",
    "    "
   ]
  },
  {
   "cell_type": "code",
   "execution_count": null,
   "id": "44b230cb",
   "metadata": {},
   "outputs": [],
   "source": [
    "\n",
    "import rasterio\n",
    "import numpy as np\n",
    "import geopandas as gpd\n",
    "from nickyspatial.segmentation import quickshift_segmentation\n",
    "from nickyspatial.zonal import zonal_stats_table\n",
    "from skimage.feature import greycomatrix, greycoprops\n",
    "from shapely.geometry import shape\n",
    "import matplotlib.pyplot as plt\n"
   ]
  },
  {
   "cell_type": "markdown",
   "id": "cc9d3e42",
   "metadata": {},
   "source": [
    "## Load Sentinel-2 Red and NIR bands"
   ]
  },
  {
   "cell_type": "code",
   "execution_count": null,
   "id": "7f0b26ab",
   "metadata": {},
   "outputs": [],
   "source": [
    "\n",
    "# Update these paths with your actual file locations\n",
    "red_path = \"B04.tif\"  # Red band (Band 4)\n",
    "nir_path = \"B08.tif\"  # NIR band (Band 8)\n",
    "\n",
    "with rasterio.open(red_path) as src:\n",
    "    red = src.read(1).astype('float32')\n",
    "    profile = src.profile\n",
    "    transform = src.transform\n",
    "\n",
    "with rasterio.open(nir_path) as src:\n",
    "    nir = src.read(1).astype('float32')\n"
   ]
  },
  {
   "cell_type": "markdown",
   "id": "80e9619d",
   "metadata": {},
   "source": [
    "## Compute NDVI"
   ]
  },
  {
   "cell_type": "code",
   "execution_count": null,
   "id": "784e46e5",
   "metadata": {},
   "outputs": [],
   "source": [
    "\n",
    "ndvi = (nir - red) / (nir + red)\n",
    "ndvi = np.clip(ndvi, -1, 1)\n",
    "\n",
    "plt.imshow(ndvi, cmap='RdYlGn')\n",
    "plt.title(\"NDVI\")\n",
    "plt.colorbar()\n",
    "plt.show()\n"
   ]
  },
  {
   "cell_type": "markdown",
   "id": "065b7c0b",
   "metadata": {},
   "source": [
    "## Segment NDVI image using Quickshift"
   ]
  },
  {
   "cell_type": "code",
   "execution_count": null,
   "id": "91393c1d",
   "metadata": {},
   "outputs": [],
   "source": [
    "\n",
    "segments = quickshift_segmentation(ndvi, kernel_size=3, max_dist=6, ratio=0.5)\n",
    "\n",
    "plt.imshow(segments, cmap='tab20')\n",
    "plt.title(\"Segmented Image\")\n",
    "plt.colorbar()\n",
    "plt.show()\n"
   ]
  },
  {
   "cell_type": "markdown",
   "id": "4ec01754",
   "metadata": {},
   "source": [
    "## Compute Zonal Statistics (mean NDVI per object)"
   ]
  },
  {
   "cell_type": "code",
   "execution_count": null,
   "id": "01867445",
   "metadata": {},
   "outputs": [],
   "source": [
    "\n",
    "features = {'mean_ndvi': ndvi}\n",
    "gdf = zonal_stats_table(segments, features, transform=transform)\n"
   ]
  },
  {
   "cell_type": "markdown",
   "id": "dcc86f52",
   "metadata": {},
   "source": [
    "## Compute Texture Features (GLCM Contrast from NDVI)"
   ]
  },
  {
   "cell_type": "code",
   "execution_count": null,
   "id": "64610688",
   "metadata": {},
   "outputs": [],
   "source": [
    "\n",
    "ndvi_int = ((ndvi + 1) * 127.5).astype('uint8')  # Scale to 0–255\n",
    "glcm = greycomatrix(ndvi_int, distances=[1], angles=[0], levels=256, symmetric=True, normed=True)\n",
    "contrast = greycoprops(glcm, 'contrast')[0, 0]\n",
    "gdf['glcm_contrast'] = contrast  # Apply global contrast value (can be per object later)\n"
   ]
  },
  {
   "cell_type": "markdown",
   "id": "b5dae753",
   "metadata": {},
   "source": [
    "## Add Geometry Features"
   ]
  },
  {
   "cell_type": "code",
   "execution_count": null,
   "id": "979b5a1e",
   "metadata": {},
   "outputs": [],
   "source": [
    "\n",
    "gdf['area'] = gdf.geometry.area\n",
    "gdf['perimeter'] = gdf.geometry.length\n",
    "gdf['compactness'] = (4 * np.pi * gdf['area']) / (gdf['perimeter'] ** 2)\n"
   ]
  },
  {
   "cell_type": "markdown",
   "id": "26a4c050",
   "metadata": {},
   "source": [
    "## Save as GeoJSON"
   ]
  },
  {
   "cell_type": "code",
   "execution_count": null,
   "id": "a132d1cf",
   "metadata": {},
   "outputs": [],
   "source": [
    "\n",
    "gdf.to_file(\"obia_features.geojson\", driver=\"GeoJSON\")\n"
   ]
  },
  {
   "cell_type": "markdown",
   "id": "6149b1ae",
   "metadata": {},
   "source": [
    "## Visualize Results"
   ]
  },
  {
   "cell_type": "code",
   "execution_count": null,
   "id": "3a990b90",
   "metadata": {},
   "outputs": [],
   "source": [
    "\n",
    "gdf.plot(column='mean_ndvi', cmap='YlGn', legend=True)\n",
    "plt.title(\"Mean NDVI per Object\")\n",
    "plt.show()\n"
   ]
  }
 ],
 "metadata": {},
 "nbformat": 4,
 "nbformat_minor": 5
}