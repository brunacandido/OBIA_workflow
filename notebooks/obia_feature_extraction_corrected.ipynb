{
 "cells": [
  {
   "cell_type": "markdown",
   "id": "18022fc0",
   "metadata": {},
   "source": [
    "# OBIA Feature Extraction with Sentinel-2 Imagery"
   ]
  },
  {
   "cell_type": "markdown",
   "id": "81161689",
   "metadata": {},
   "source": [
    "\n",
    "This notebook performs object-based feature extraction from Sentinel-2 imagery using the `nickyspatial` library.\n",
    "\n",
    "Steps included:\n",
    "1. Load Sentinel-2 bands (Red and NIR)\n",
    "2. Compute NDVI\n",
    "3. Segment the image using SLIC\n",
    "4. Compute zonal statistics (mean NDVI)\n",
    "5. Extract geometry features (area, perimeter, compactness)\n",
    "6. Compute GLCM texture features (contrast)\n",
    "7. Save the results as GeoJSON and visualize\n",
    "    "
   ]
  },
  {
   "cell_type": "code",
   "execution_count": null,
   "id": "6e045849",
   "metadata": {},
   "outputs": [],
   "source": [
    "\n",
    "import rasterio\n",
    "import numpy as np\n",
    "import geopandas as gpd\n",
    "from skimage.feature import greycomatrix, greycoprops\n",
    "import matplotlib.pyplot as plt\n",
    "\n",
    "from nickyspatial import SlicSegmentation, attach_basic_stats, attach_shape_metrics, layer_to_vector\n"
   ]
  },
  {
   "cell_type": "markdown",
   "id": "e0c0ed3b",
   "metadata": {},
   "source": [
    "## Load Sentinel-2 Red and NIR bands from multiband TIFF"
   ]
  },
  {
   "cell_type": "code",
   "execution_count": null,
   "id": "f8519258",
   "metadata": {},
   "outputs": [],
   "source": [
    "\n",
    "# Replace 'sentinel2.tif' with your actual multiband file\n",
    "multiband_path = \"sentinel2.tif\"\n",
    "\n",
    "with rasterio.open(multiband_path) as src:\n",
    "    print(f\"Number of bands: {src.count}\")\n",
    "\n",
    "    red = src.read(4).astype(\"float32\")  # Band 4: Red\n",
    "    nir = src.read(8).astype(\"float32\")  # Band 8: NIR\n",
    "\n",
    "    profile = src.profile\n",
    "    transform = src.transform\n"
   ]
  },
  {
   "cell_type": "markdown",
   "id": "21c1493f",
   "metadata": {},
   "source": [
    "## Compute NDVI"
   ]
  },
  {
   "cell_type": "code",
   "execution_count": null,
   "id": "16e93f9d",
   "metadata": {},
   "outputs": [],
   "source": [
    "\n",
    "ndvi = (nir - red) / (nir + red)\n",
    "ndvi = np.clip(ndvi, -1, 1)\n",
    "\n",
    "plt.imshow(ndvi, cmap='RdYlGn')\n",
    "plt.title(\"NDVI\")\n",
    "plt.colorbar()\n",
    "plt.show()\n"
   ]
  },
  {
   "cell_type": "markdown",
   "id": "2e2d216a",
   "metadata": {},
   "source": [
    "## Segment NDVI using SLIC from nickyspatial"
   ]
  },
  {
   "cell_type": "code",
   "execution_count": null,
   "id": "277187d4",
   "metadata": {},
   "outputs": [],
   "source": [
    "\n",
    "slic = SlicSegmentation(n_segments=1000, compactness=10)\n",
    "segments = slic.fit(ndvi)\n",
    "\n",
    "plt.imshow(segments, cmap='tab20')\n",
    "plt.title(\"Segmented Image (SLIC)\")\n",
    "plt.colorbar()\n",
    "plt.show()\n"
   ]
  },
  {
   "cell_type": "markdown",
   "id": "b9da7221",
   "metadata": {},
   "source": [
    "## Extract Zonal Statistics and Geometry Features"
   ]
  },
  {
   "cell_type": "code",
   "execution_count": null,
   "id": "8264f20f",
   "metadata": {},
   "outputs": [],
   "source": [
    "\n",
    "# Build layer object and convert to vector\n",
    "layer = {'raster': ndvi, 'segments': segments, 'transform': transform}\n",
    "gdf = layer_to_vector(layer)\n",
    "\n",
    "# Add mean NDVI\n",
    "gdf = attach_basic_stats(gdf, ndvi, 'mean_ndvi')\n",
    "\n",
    "# Add geometry metrics\n",
    "gdf = attach_shape_metrics(gdf)\n"
   ]
  },
  {
   "cell_type": "markdown",
   "id": "f8ec190e",
   "metadata": {},
   "source": [
    "## Compute Texture Features (GLCM Contrast from NDVI)"
   ]
  },
  {
   "cell_type": "code",
   "execution_count": null,
   "id": "8140872f",
   "metadata": {},
   "outputs": [],
   "source": [
    "\n",
    "ndvi_int = ((ndvi + 1) * 127.5).astype('uint8')  # Scale to 0–255\n",
    "glcm = greycomatrix(ndvi_int, distances=[1], angles=[0], levels=256, symmetric=True, normed=True)\n",
    "contrast = greycoprops(glcm, 'contrast')[0, 0]\n",
    "\n",
    "# Assign global contrast to all objects (optional: do per-object if needed)\n",
    "gdf['glcm_contrast'] = contrast\n"
   ]
  },
  {
   "cell_type": "markdown",
   "id": "2711a4b2",
   "metadata": {},
   "source": [
    "## Save Results as GeoJSON"
   ]
  },
  {
   "cell_type": "code",
   "execution_count": null,
   "id": "22383630",
   "metadata": {},
   "outputs": [],
   "source": [
    "\n",
    "gdf.to_file(\"obia_features.geojson\", driver=\"GeoJSON\")\n"
   ]
  },
  {
   "cell_type": "markdown",
   "id": "ae3c0251",
   "metadata": {},
   "source": [
    "## Visualize Mean NDVI per Object"
   ]
  },
  {
   "cell_type": "code",
   "execution_count": null,
   "id": "05574f95",
   "metadata": {},
   "outputs": [],
   "source": [
    "\n",
    "gdf.plot(column='mean_ndvi', cmap='YlGn', legend=True)\n",
    "plt.title(\"Mean NDVI per Object\")\n",
    "plt.show()\n"
   ]
  }
 ],
 "metadata": {},
 "nbformat": 4,
 "nbformat_minor": 5
}