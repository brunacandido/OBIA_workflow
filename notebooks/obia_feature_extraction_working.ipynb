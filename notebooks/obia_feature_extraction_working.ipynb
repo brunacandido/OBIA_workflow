{
 "cells": [
  {
   "cell_type": "markdown",
   "id": "f45bd7c5",
   "metadata": {},
   "source": [
    "# OBIA Feature Extraction with Sentinel-2 Imagery"
   ]
  },
  {
   "cell_type": "markdown",
   "id": "83bcf022",
   "metadata": {},
   "source": [
    "\n",
    "This notebook performs object-based feature extraction from Sentinel-2 imagery using the `nickyspatial` library.\n",
    "\n",
    "Steps:\n",
    "1. Load Sentinel-2 bands (Red and NIR)\n",
    "2. Compute NDVI\n",
    "3. Segment the image using SLIC\n",
    "4. Convert segments to vector objects\n",
    "5. Extract object statistics (NDVI, area, shape metrics)\n",
    "6. Compute global texture (GLCM contrast)\n",
    "7. Save and visualize the results\n",
    "    "
   ]
  },
  {
   "cell_type": "code",
   "execution_count": null,
   "id": "467ba6eb",
   "metadata": {},
   "outputs": [],
   "source": [
    "\n",
    "import rasterio\n",
    "import numpy as np\n",
    "import geopandas as gpd\n",
    "import matplotlib.pyplot as plt\n",
    "from skimage.feature import greycomatrix, greycoprops\n",
    "\n",
    "from nickyspatial import SlicSegmentation, attach_basic_stats, attach_shape_metrics, layer_to_vector\n"
   ]
  },
  {
   "cell_type": "markdown",
   "id": "18f3becd",
   "metadata": {},
   "source": [
    "## Load Sentinel-2 Red and NIR bands from multiband TIFF"
   ]
  },
  {
   "cell_type": "code",
   "execution_count": null,
   "id": "74b4c0ef",
   "metadata": {},
   "outputs": [],
   "source": [
    "\n",
    "multiband_path = \"sentinel2.tif\"\n",
    "\n",
    "with rasterio.open(multiband_path) as src:\n",
    "    print(f\"Number of bands: {src.count}\")\n",
    "    red = src.read(3).astype(\"float32\")  # Adjust if band 3 is Red\n",
    "    nir = src.read(4).astype(\"float32\")  # Adjust if band 4 is NIR\n",
    "    transform = src.transform\n",
    "    profile = src.profile\n"
   ]
  },
  {
   "cell_type": "markdown",
   "id": "abbd2e03",
   "metadata": {},
   "source": [
    "## Compute NDVI"
   ]
  },
  {
   "cell_type": "code",
   "execution_count": null,
   "id": "a9d5e95d",
   "metadata": {},
   "outputs": [],
   "source": [
    "\n",
    "ndvi = (nir - red) / (nir + red)\n",
    "ndvi = np.clip(ndvi, -1, 1)\n",
    "\n",
    "plt.imshow(ndvi, cmap='RdYlGn')\n",
    "plt.title(\"NDVI\")\n",
    "plt.colorbar()\n",
    "plt.show()\n"
   ]
  },
  {
   "cell_type": "markdown",
   "id": "b0046d46",
   "metadata": {},
   "source": [
    "## Apply SLIC Segmentation using nickyspatial"
   ]
  },
  {
   "cell_type": "code",
   "execution_count": null,
   "id": "702b9fc8",
   "metadata": {},
   "outputs": [],
   "source": [
    "\n",
    "slic = SlicSegmentation()\n",
    "segments = slic.fit(ndvi)\n",
    "\n",
    "plt.imshow(segments, cmap='tab20')\n",
    "plt.title(\"Segmented Image\")\n",
    "plt.colorbar()\n",
    "plt.show()\n"
   ]
  },
  {
   "cell_type": "markdown",
   "id": "eaecd3e8",
   "metadata": {},
   "source": [
    "## Convert Segments to Vector and Attach Statistics"
   ]
  },
  {
   "cell_type": "code",
   "execution_count": null,
   "id": "8e3804ec",
   "metadata": {},
   "outputs": [],
   "source": [
    "\n",
    "layer = {'raster': ndvi, 'segments': segments, 'transform': transform}\n",
    "gdf = layer_to_vector(layer)\n",
    "gdf = attach_basic_stats(gdf, ndvi, stat_name='mean_ndvi')\n",
    "gdf = attach_shape_metrics(gdf)\n"
   ]
  },
  {
   "cell_type": "markdown",
   "id": "5eac8ea1",
   "metadata": {},
   "source": [
    "## Compute Global GLCM Contrast (Optional)"
   ]
  },
  {
   "cell_type": "code",
   "execution_count": null,
   "id": "12be239e",
   "metadata": {},
   "outputs": [],
   "source": [
    "\n",
    "ndvi_int = ((ndvi + 1) * 127.5).astype('uint8')\n",
    "glcm = greycomatrix(ndvi_int, distances=[1], angles=[0], levels=256, symmetric=True, normed=True)\n",
    "contrast = greycoprops(glcm, 'contrast')[0, 0]\n",
    "gdf['glcm_contrast'] = contrast\n"
   ]
  },
  {
   "cell_type": "markdown",
   "id": "e3829545",
   "metadata": {},
   "source": [
    "## Save to GeoJSON"
   ]
  },
  {
   "cell_type": "code",
   "execution_count": null,
   "id": "6f8da532",
   "metadata": {},
   "outputs": [],
   "source": [
    "\n",
    "gdf.to_file(\"obia_features.geojson\", driver=\"GeoJSON\")\n"
   ]
  },
  {
   "cell_type": "markdown",
   "id": "7e752406",
   "metadata": {},
   "source": [
    "## Visualize NDVI per Object"
   ]
  },
  {
   "cell_type": "code",
   "execution_count": null,
   "id": "13d233ef",
   "metadata": {},
   "outputs": [],
   "source": [
    "\n",
    "gdf.plot(column='mean_ndvi', cmap='YlGn', legend=True)\n",
    "plt.title(\"Mean NDVI per Object\")\n",
    "plt.show()\n"
   ]
  }
 ],
 "metadata": {},
 "nbformat": 4,
 "nbformat_minor": 5
}