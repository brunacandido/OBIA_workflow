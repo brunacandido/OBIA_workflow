{
 "cells": [
  {
   "cell_type": "markdown",
   "id": "e8d36320",
   "metadata": {},
   "source": [
    "# Notebook: Preprocessing Sentinel-2 Imagery\n",
    "This notebook demonstrates how to use functions from `preprocessing.py` to:\n",
    "- Load and visualize bands\n",
    "- Calculate NDVI\n",
    "- Clip images using a shapefile (AOI)\n",
    "- Normalize bands\n",
    "- Resample imagery"
   ]
  },
  {
   "cell_type": "code",
   "execution_count": null,
   "id": "1cf4b74d",
   "metadata": {},
   "outputs": [],
   "source": [
    "import sys\n",
    "import os\n",
    "sys.path.append(os.path.abspath(\"../src\"))\n",
    "\n",
    "from preprocessing import (\n",
    "    load_band,\n",
    "    normalize,\n",
    "    calculate_ndvi,\n",
    "    clip_raster_with_shapefile,\n",
    "    resample_band\n",
    ")\n",
    "import matplotlib.pyplot as plt"
   ]
  },
  {
   "cell_type": "code",
   "execution_count": 6,
   "id": "bc5df0a5",
   "metadata": {},
   "outputs": [],
   "source": [
    "# File paths\n",
    "red_path = \"../data/raw/B04.tif\"\n",
    "nir_path = \"../data/raw/B08.tif\"\n",
    "aoi_path = \"../data/aoi/area_study.shp\""
   ]
  },
  {
   "cell_type": "code",
   "execution_count": 7,
   "id": "51e08aa0",
   "metadata": {},
   "outputs": [
    {
     "ename": "RasterioIOError",
     "evalue": "../data/raw/B04.tif: No such file or directory",
     "output_type": "error",
     "traceback": [
      "\u001b[1;31m---------------------------------------------------------------------------\u001b[0m",
      "\u001b[1;31mCPLE_OpenFailedError\u001b[0m                      Traceback (most recent call last)",
      "File \u001b[1;32mrasterio\\\\_base.pyx:310\u001b[0m, in \u001b[0;36mrasterio._base.DatasetBase.__init__\u001b[1;34m()\u001b[0m\n",
      "File \u001b[1;32mrasterio\\\\_base.pyx:221\u001b[0m, in \u001b[0;36mrasterio._base.open_dataset\u001b[1;34m()\u001b[0m\n",
      "File \u001b[1;32mrasterio\\\\_err.pyx:359\u001b[0m, in \u001b[0;36mrasterio._err.exc_wrap_pointer\u001b[1;34m()\u001b[0m\n",
      "\u001b[1;31mCPLE_OpenFailedError\u001b[0m: ../data/raw/B04.tif: No such file or directory",
      "\nDuring handling of the above exception, another exception occurred:\n",
      "\u001b[1;31mRasterioIOError\u001b[0m                           Traceback (most recent call last)",
      "Cell \u001b[1;32mIn[7], line 2\u001b[0m\n\u001b[0;32m      1\u001b[0m \u001b[38;5;66;03m# Load Red and NIR bands\u001b[39;00m\n\u001b[1;32m----> 2\u001b[0m red, _ \u001b[38;5;241m=\u001b[39m \u001b[43mload_band\u001b[49m\u001b[43m(\u001b[49m\u001b[43mred_path\u001b[49m\u001b[43m)\u001b[49m\n\u001b[0;32m      3\u001b[0m nir, _ \u001b[38;5;241m=\u001b[39m load_band(nir_path)\n",
      "File \u001b[1;32m~\\Documents\\repos\\obia-workflow\\OBIA_workflow\\src\\preprocessing.py:12\u001b[0m, in \u001b[0;36mload_band\u001b[1;34m(path)\u001b[0m\n\u001b[0;32m     11\u001b[0m \u001b[38;5;28;01mdef\u001b[39;00m\u001b[38;5;250m \u001b[39m\u001b[38;5;21mload_band\u001b[39m(path):\n\u001b[1;32m---> 12\u001b[0m     \u001b[38;5;28;01mwith\u001b[39;00m \u001b[43mrasterio\u001b[49m\u001b[38;5;241;43m.\u001b[39;49m\u001b[43mopen\u001b[49m\u001b[43m(\u001b[49m\u001b[43mpath\u001b[49m\u001b[43m)\u001b[49m \u001b[38;5;28;01mas\u001b[39;00m src:\n\u001b[0;32m     13\u001b[0m         band \u001b[38;5;241m=\u001b[39m src\u001b[38;5;241m.\u001b[39mread(\u001b[38;5;241m1\u001b[39m)\n\u001b[0;32m     14\u001b[0m         profile \u001b[38;5;241m=\u001b[39m src\u001b[38;5;241m.\u001b[39mprofile\n",
      "File \u001b[1;32m~\\anaconda3\\envs\\obia_env\\lib\\site-packages\\rasterio\\env.py:463\u001b[0m, in \u001b[0;36mensure_env_with_credentials.<locals>.wrapper\u001b[1;34m(*args, **kwds)\u001b[0m\n\u001b[0;32m    460\u001b[0m     session \u001b[38;5;241m=\u001b[39m DummySession()\n\u001b[0;32m    462\u001b[0m \u001b[38;5;28;01mwith\u001b[39;00m env_ctor(session\u001b[38;5;241m=\u001b[39msession):\n\u001b[1;32m--> 463\u001b[0m     \u001b[38;5;28;01mreturn\u001b[39;00m f(\u001b[38;5;241m*\u001b[39margs, \u001b[38;5;241m*\u001b[39m\u001b[38;5;241m*\u001b[39mkwds)\n",
      "File \u001b[1;32m~\\anaconda3\\envs\\obia_env\\lib\\site-packages\\rasterio\\__init__.py:356\u001b[0m, in \u001b[0;36mopen\u001b[1;34m(fp, mode, driver, width, height, count, crs, transform, dtype, nodata, sharing, opener, **kwargs)\u001b[0m\n\u001b[0;32m    353\u001b[0m     path \u001b[38;5;241m=\u001b[39m _parse_path(raw_dataset_path)\n\u001b[0;32m    355\u001b[0m \u001b[38;5;28;01mif\u001b[39;00m mode \u001b[38;5;241m==\u001b[39m \u001b[38;5;124m\"\u001b[39m\u001b[38;5;124mr\u001b[39m\u001b[38;5;124m\"\u001b[39m:\n\u001b[1;32m--> 356\u001b[0m     dataset \u001b[38;5;241m=\u001b[39m DatasetReader(path, driver\u001b[38;5;241m=\u001b[39mdriver, sharing\u001b[38;5;241m=\u001b[39msharing, \u001b[38;5;241m*\u001b[39m\u001b[38;5;241m*\u001b[39mkwargs)\n\u001b[0;32m    357\u001b[0m \u001b[38;5;28;01melif\u001b[39;00m mode \u001b[38;5;241m==\u001b[39m \u001b[38;5;124m\"\u001b[39m\u001b[38;5;124mr+\u001b[39m\u001b[38;5;124m\"\u001b[39m:\n\u001b[0;32m    358\u001b[0m     dataset \u001b[38;5;241m=\u001b[39m get_writer_for_path(path, driver\u001b[38;5;241m=\u001b[39mdriver)(\n\u001b[0;32m    359\u001b[0m         path, mode, driver\u001b[38;5;241m=\u001b[39mdriver, sharing\u001b[38;5;241m=\u001b[39msharing, \u001b[38;5;241m*\u001b[39m\u001b[38;5;241m*\u001b[39mkwargs\n\u001b[0;32m    360\u001b[0m     )\n",
      "File \u001b[1;32mrasterio\\\\_base.pyx:312\u001b[0m, in \u001b[0;36mrasterio._base.DatasetBase.__init__\u001b[1;34m()\u001b[0m\n",
      "\u001b[1;31mRasterioIOError\u001b[0m: ../data/raw/B04.tif: No such file or directory"
     ]
    }
   ],
   "source": [
    "# Load Red and NIR bands\n",
    "red, _ = load_band(red_path)\n",
    "nir, _ = load_band(nir_path)"
   ]
  },
  {
   "cell_type": "code",
   "execution_count": null,
   "id": "a95d77f6",
   "metadata": {},
   "outputs": [],
   "source": [
    "# Calculate NDVI\n",
    "ndvi = calculate_ndvi(nir, red)\n",
    "\n",
    "plt.imshow(ndvi, cmap=\"RdYlGn\")\n",
    "plt.colorbar()\n",
    "plt.title(\"NDVI\")\n",
    "plt.axis(\"off\")\n",
    "plt.show()"
   ]
  },
  {
   "cell_type": "code",
   "execution_count": null,
   "id": "4ad60eb5",
   "metadata": {},
   "outputs": [],
   "source": [
    "# Clip Red band using AOI shapefile\n",
    "clipped_red, red_meta = clip_raster_with_shapefile(red_path, aoi_path)\n",
    "\n",
    "plt.imshow(clipped_red, cmap=\"Reds\")\n",
    "plt.title(\"Red Band (clipped)\")\n",
    "plt.axis(\"off\")\n",
    "plt.show()"
   ]
  },
  {
   "cell_type": "code",
   "execution_count": null,
   "id": "b4a83c42",
   "metadata": {},
   "outputs": [],
   "source": [
    "# Normalize the clipped band\n",
    "normalized_red = normalize(clipped_red)\n",
    "\n",
    "plt.imshow(normalized_red, cmap=\"gray\")\n",
    "plt.title(\"Normalized Red Band\")\n",
    "plt.axis(\"off\")\n",
    "plt.show()"
   ]
  },
  {
   "cell_type": "code",
   "execution_count": null,
   "id": "1610a7f2",
   "metadata": {},
   "outputs": [],
   "source": [
    "# Resample Red band by 50%\n",
    "resampled_red, resampled_meta = resample_band(red_path, scale_factor=0.5)\n",
    "\n",
    "plt.imshow(resampled_red, cmap='gray')\n",
    "plt.title(\"Resampled Red Band (50%)\")\n",
    "plt.axis(\"off\")\n",
    "plt.show()"
   ]
  }
 ],
 "metadata": {
  "kernelspec": {
   "display_name": "Python 3 (ipykernel)",
   "language": "python",
   "name": "python3"
  },
  "language_info": {
   "codemirror_mode": {
    "name": "ipython",
    "version": 3
   },
   "file_extension": ".py",
   "mimetype": "text/x-python",
   "name": "python",
   "nbconvert_exporter": "python",
   "pygments_lexer": "ipython3",
   "version": "3.9.23"
  }
 },
 "nbformat": 4,
 "nbformat_minor": 5
}
