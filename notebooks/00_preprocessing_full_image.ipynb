{
 "cells": [
  {
   "cell_type": "markdown",
   "metadata": {},
   "source": [
    "# Notebook: Preprocessing Full Sentinel-2 TIFF\n",
    "This notebook demonstrates how to use functions from `preprocessing.py` to:\n",
    "- Load a multi-band Sentinel-2 image (single GeoTIFF)\n",
    "- Extract Red and NIR bands\n",
    "- Calculate NDVI\n",
    "- Clip the image using a shapefile (AOI)\n",
    "- Normalize bands\n",
    "- Resample the image"
   ]
  },
  {
   "cell_type": "code",
   "execution_count": 3,
   "metadata": {},
   "outputs": [],
   "source": [
    "import sys\n",
    "import os\n",
    "sys.path.append(os.path.abspath(\"../src\"))\n",
    "\n",
    "from preprocessing import (\n",
    "    normalize,\n",
    "    calculate_ndvi,\n",
    "    clip_raster_with_shapefile,\n",
    "    resample_band\n",
    ")\n",
    "\n",
    "import rasterio\n",
    "import matplotlib.pyplot as plt\n",
    "import numpy as np\n",
    "\n"
   ]
  },
  {
   "cell_type": "code",
   "execution_count": 5,
   "metadata": {},
   "outputs": [],
   "source": [
    "# File paths\n",
    "image_path = \"../data/Sentinel2A_subset_bands_ToA_BGRNirSWIR1SWIR2.tif\"  # full image with multiple bands\n",
    "aoi_path = \"../data/aoi/area_study.shp\""
   ]
  },
  {
   "cell_type": "code",
   "execution_count": 6,
   "metadata": {},
   "outputs": [
    {
     "name": "stdout",
     "output_type": "stream",
     "text": [
      "Loaded image with 6 bands\n"
     ]
    }
   ],
   "source": [
    "# Load full image\n",
    "with rasterio.open(image_path) as src:\n",
    "    image = src.read()  # shape: (bands, height, width)\n",
    "    profile = src.profile\n",
    "    print(f\"Loaded image with {image.shape[0]} bands\")"
   ]
  },
  {
   "cell_type": "code",
   "execution_count": 10,
   "metadata": {},
   "outputs": [
    {
     "ename": "IndexError",
     "evalue": "index 6 is out of bounds for axis 0 with size 6",
     "output_type": "error",
     "traceback": [
      "\u001b[1;31m---------------------------------------------------------------------------\u001b[0m",
      "\u001b[1;31mIndexError\u001b[0m                                Traceback (most recent call last)",
      "Cell \u001b[1;32mIn[10], line 3\u001b[0m\n\u001b[0;32m      1\u001b[0m \u001b[38;5;66;03m# Select Red (band 4) and NIR (band 8) — indexing from 1, so band 4 = index 3, band 8 = index 7\u001b[39;00m\n\u001b[0;32m      2\u001b[0m red \u001b[38;5;241m=\u001b[39m image[\u001b[38;5;241m3\u001b[39m, :, :]\n\u001b[1;32m----> 3\u001b[0m nir \u001b[38;5;241m=\u001b[39m \u001b[43mimage\u001b[49m\u001b[43m[\u001b[49m\u001b[38;5;241;43m6\u001b[39;49m\u001b[43m,\u001b[49m\u001b[43m \u001b[49m\u001b[43m:\u001b[49m\u001b[43m,\u001b[49m\u001b[43m \u001b[49m\u001b[43m:\u001b[49m\u001b[43m]\u001b[49m\n\u001b[0;32m      5\u001b[0m \u001b[38;5;66;03m# Calculate NDVI\u001b[39;00m\n\u001b[0;32m      6\u001b[0m ndvi \u001b[38;5;241m=\u001b[39m calculate_ndvi(nir, red)\n",
      "\u001b[1;31mIndexError\u001b[0m: index 6 is out of bounds for axis 0 with size 6"
     ]
    }
   ],
   "source": [
    "# Select Red (band 4) and NIR (band 8) — indexing from 1, so band 4 = index 3, band 8 = index 7\n",
    "red = image[3, :, :]\n",
    "nir = image[6, :, :]\n",
    "\n",
    "# Calculate NDVI\n",
    "ndvi = calculate_ndvi(nir, red)\n",
    "\n",
    "plt.imshow(ndvi, cmap=\"RdYlGn\")\n",
    "plt.colorbar()\n",
    "plt.title(\"NDVI\")\n",
    "plt.axis(\"off\")\n",
    "plt.show()"
   ]
  },
  {
   "cell_type": "code",
   "execution_count": null,
   "metadata": {},
   "outputs": [],
   "source": [
    "# Clip the full image with AOI shapefile\n",
    "# NOTE: this clips only the first band (for demo)\n",
    "clipped_band, clipped_meta = clip_raster_with_shapefile(image_path, aoi_path)\n",
    "\n",
    "plt.imshow(clipped_band, cmap=\"gray\")\n",
    "plt.title(\"Clipped Band 1\")\n",
    "plt.axis(\"off\")\n",
    "plt.show()"
   ]
  },
  {
   "cell_type": "code",
   "execution_count": null,
   "metadata": {},
   "outputs": [],
   "source": [
    "# Normalize one of the bands (e.g., Red)\n",
    "normalized_red = normalize(red)\n",
    "\n",
    "plt.imshow(normalized_red, cmap=\"gray\")\n",
    "plt.title(\"Normalized Red Band\")\n",
    "plt.axis(\"off\")\n",
    "plt.show()"
   ]
  },
  {
   "cell_type": "code",
   "execution_count": null,
   "metadata": {},
   "outputs": [],
   "source": [
    "# Resample the full image by 50%\n",
    "resampled_band, resampled_meta = resample_band(image_path, scale_factor=0.5)\n",
    "\n",
    "plt.imshow(resampled_band, cmap='gray')\n",
    "plt.title(\"Resampled Band 1 (50%)\")\n",
    "plt.axis(\"off\")\n",
    "plt.show()"
   ]
  }
 ],
 "metadata": {
  "kernelspec": {
   "display_name": "obia_env",
   "language": "python",
   "name": "python3"
  },
  "language_info": {
   "codemirror_mode": {
    "name": "ipython",
    "version": 3
   },
   "file_extension": ".py",
   "mimetype": "text/x-python",
   "name": "python",
   "nbconvert_exporter": "python",
   "pygments_lexer": "ipython3",
   "version": "3.9.23"
  }
 },
 "nbformat": 4,
 "nbformat_minor": 5
}
